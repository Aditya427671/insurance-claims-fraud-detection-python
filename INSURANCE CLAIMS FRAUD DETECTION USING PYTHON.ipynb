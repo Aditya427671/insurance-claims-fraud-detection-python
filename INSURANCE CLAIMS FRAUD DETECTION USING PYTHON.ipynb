{
 "cells": [
  {
   "cell_type": "code",
   "execution_count": 5,
   "id": "47a26dce-7f6f-4a1b-a207-3a629f3dc575",
   "metadata": {},
   "outputs": [],
   "source": [
    "import pandas as pd"
   ]
  },
  {
   "cell_type": "code",
   "execution_count": 19,
   "id": "3843a826-64b0-49cf-a232-f441af09398f",
   "metadata": {},
   "outputs": [],
   "source": [
    "claims_data = pd.read_csv('claims_data.csv')\n",
    "\n",
    "cust_data = pd.read_csv('cust_data.csv')"
   ]
  },
  {
   "cell_type": "code",
   "execution_count": null,
   "id": "dc825a2c-37b4-4fd4-ad76-23f1d0e8bc05",
   "metadata": {},
   "outputs": [],
   "source": []
  },
  {
   "cell_type": "code",
   "execution_count": null,
   "id": "8e083625-113c-416e-be21-7408508fe73f",
   "metadata": {},
   "outputs": [],
   "source": [
    "1. Import claims_data.csv and cust_data.csv which is provided to you and combine the two datasets appropriately to create a 360-degree view of \n",
    "the data. Use the same for the subsequent questions."
   ]
  },
  {
   "cell_type": "code",
   "execution_count": null,
   "id": "9fce3394-447a-4e21-b88e-599090489994",
   "metadata": {},
   "outputs": [],
   "source": [
    "import pandas as pd\n",
    "\n",
    "claims_data = pd.read_csv('claims_data.csv')\n",
    "cust_data = pd.read_csv('cust_data.csv')\n",
    "\n",
    "merged_data = pd.merge(claims_data, cust_data, left_on='customer_id', right_on='cust_id', how='left')\n",
    "\n",
    "print(merged_data.head())\n"
   ]
  },
  {
   "cell_type": "code",
   "execution_count": null,
   "id": "385e38db-1fe1-4718-83dc-a5102ef02e40",
   "metadata": {},
   "outputs": [],
   "source": []
  },
  {
   "cell_type": "code",
   "execution_count": null,
   "id": "324e7f34-26d9-44f6-8e47-7c13cf121991",
   "metadata": {},
   "outputs": [],
   "source": [
    "2. Perform a data audit for the datatypes and find out if there are any mismatch within the current datatypes of the columns and their \n",
    "business significance."
   ]
  },
  {
   "cell_type": "code",
   "execution_count": null,
   "id": "d3e4a83c-06d0-4573-992f-efb015003fac",
   "metadata": {},
   "outputs": [],
   "source": [
    "import pandas as pd\n",
    "\n",
    "claims_data = pd.read_csv('claims_data.csv')\n",
    "cust_data = pd.read_csv('cust_data.csv')\n",
    "\n",
    "claims_data_dtypes = claims_data.dtypes\n",
    "cust_data_dtypes = cust_data.dtypes\n",
    "\n",
    "expected_claims_data_dtypes = {\n",
    "    'claim_id': 'int64',\n",
    "    'customer_id': 'int64',\n",
    "    'incident_cause': 'object',\n",
    "    'claim_date': 'datetime64',\n",
    "    'claim_area': 'object',\n",
    "    'police_report': 'object',\n",
    "    'claim_type': 'object',\n",
    "    'claim_amount': 'float64',\n",
    "    'total_policy_claims': 'int64',\n",
    "    'fraudulent': 'bool'\n",
    "}\n",
    "\n",
    "expected_cust_data_dtypes = {\n",
    "    'cust_id': 'int64',\n",
    "    'gender': 'object',\n",
    "    'dateofbirth': 'datetime64',\n",
    "    'state': 'object',\n",
    "    'contact': 'object',\n",
    "    'segment': 'object'\n",
    "}\n",
    "\n",
    "claims_data_mismatches = claims_data_dtypes != pd.Series(expected_claims_data_dtypes)\n",
    "cust_data_mismatches = cust_data_dtypes != pd.Series(expected_cust_data_dtypes)\n",
    "\n",
    "print(\"Claims Data Type Mismatches:\")\n",
    "print(claims_data_mismatches[claims_data_mismatches].index.tolist())\n",
    "\n",
    "print(\"\\nCustomer Data Type Mismatches:\")\n",
    "print(cust_data_mismatches[cust_data_mismatches].index.tolist())\n",
    "\n",
    "print(\"\\nActual Data Types in Claims Data:\")\n",
    "print(claims_data_dtypes)\n",
    "\n",
    "print(\"\\nActual Data Types in Customer Data:\")\n",
    "print(cust_data_dtypes)\n"
   ]
  },
  {
   "cell_type": "code",
   "execution_count": null,
   "id": "e1ec0720-d179-49b9-9a2b-2d598777b730",
   "metadata": {},
   "outputs": [],
   "source": []
  },
  {
   "cell_type": "code",
   "execution_count": null,
   "id": "0d8aab5e-2685-44e9-a732-a1c93913aaf6",
   "metadata": {},
   "outputs": [],
   "source": [
    "3. Convert the column claim_amount to numeric. Use the appropriate modules/attributes to remove the $ sign."
   ]
  },
  {
   "cell_type": "code",
   "execution_count": null,
   "id": "9ef75664-bae4-43a5-ad70-ea09ad56ce89",
   "metadata": {},
   "outputs": [],
   "source": [
    "import pandas as pd\n",
    "\n",
    "claims_data = pd.read_csv('claims_data.csv')\n",
    "\n",
    "claims_data['claim_amount'] = claims_data['claim_amount'].replace({'\\$': ''}, regex=True)\n",
    "\n",
    "claims_data['claim_amount'] = pd.to_numeric(claims_data['claim_amount'], errors='coerce')\n",
    "\n",
    "print(claims_data[['claim_amount']].head())\n"
   ]
  },
  {
   "cell_type": "code",
   "execution_count": null,
   "id": "5d5a5a55-95ad-43dc-ba31-1ed2a4639a44",
   "metadata": {},
   "outputs": [],
   "source": []
  },
  {
   "cell_type": "code",
   "execution_count": null,
   "id": "9114fa66-3666-492c-9bdf-62ad212f6412",
   "metadata": {},
   "outputs": [],
   "source": [
    "4. Of all the injury claims, some of them have gone unreported with the police. Create an alert flag (1,0) for all such claims."
   ]
  },
  {
   "cell_type": "code",
   "execution_count": null,
   "id": "7ca2ac21-ffcd-4f68-bf19-9cee79511862",
   "metadata": {},
   "outputs": [],
   "source": [
    "import pandas as pd\n",
    "\n",
    "claims_data = pd.read_csv('claims_data.csv')\n",
    "\n",
    "injury_claims = claims_data[claims_data['incident_cause'] == 'injury']\n",
    "\n",
    "injury_claims['alert_flag'] = injury_claims['police_report'].apply(lambda x: 1 if x in ['No', 'Unknown'] else 0)\n",
    "\n",
    "claims_data.loc[claims_data['incident_cause'] == 'injury', 'alert_flag'] = injury_claims['alert_flag']\n",
    "\n",
    "print(claims_data[['claim_id', 'incident_cause', 'police_report', 'alert_flag']].head())\n"
   ]
  },
  {
   "cell_type": "code",
   "execution_count": null,
   "id": "0ac2dbfc-aa26-4507-90ee-1bd95fe3bbc0",
   "metadata": {},
   "outputs": [],
   "source": []
  },
  {
   "cell_type": "code",
   "execution_count": null,
   "id": "88319c6a-01d8-45ec-88f3-ce7b20fb403f",
   "metadata": {},
   "outputs": [],
   "source": [
    "5. One customer can claim for insurance more than once and in each claim, multiple categories of claims can be involved. However, customer ID \n",
    "should remain unique."
   ]
  },
  {
   "cell_type": "code",
   "execution_count": null,
   "id": "43516615-85ca-4640-8ae6-11ff7adc3fb8",
   "metadata": {},
   "outputs": [],
   "source": [
    "import pandas as pd\n",
    "\n",
    "claims_data = pd.read_csv('claims_data.csv')\n",
    "customer_demographics = pd.read_csv('customer_demographics.csv')\n",
    "\n",
    "claims_data = claims_data.rename(columns={'customer_id': 'cust_id'})\n",
    "merged_data = pd.merge(claims_data, customer_demographics, on='cust_id', how='left')\n",
    "\n",
    "merged_data['claim_date'] = pd.to_datetime(merged_data['claim_date'])\n",
    "\n",
    "merged_data_sorted = merged_data.sort_values(by='claim_date', ascending=False)\n",
    "\n",
    "merged_data_unique = merged_data_sorted.drop_duplicates(subset='cust_id', keep='first')\n",
    "\n",
    "print(merged_data_unique[['cust_id', 'claim_id', 'incident_cause', 'claim_date', 'claim_amount']].head())\n"
   ]
  },
  {
   "cell_type": "code",
   "execution_count": null,
   "id": "87d30e4d-8711-4644-91c8-8af62b2b1091",
   "metadata": {},
   "outputs": [],
   "source": []
  },
  {
   "cell_type": "code",
   "execution_count": null,
   "id": "c050d4f4-9dc6-44d9-8fed-e45f8135de3d",
   "metadata": {},
   "outputs": [],
   "source": [
    "6. Check for missing values and impute the missing values with an appropriate value. (mean for continuous and mode for categorical)."
   ]
  },
  {
   "cell_type": "code",
   "execution_count": null,
   "id": "b7aa9a11-166a-4ef4-8bed-cc22aab8927a",
   "metadata": {},
   "outputs": [],
   "source": [
    "import pandas as pd\n",
    "\n",
    "claims_data = pd.read_csv('claims_data.csv')\n",
    "customer_demographics = pd.read_csv('customer_demographics.csv')\n",
    "\n",
    "claims_data = claims_data.rename(columns={'customer_id': 'cust_id'})\n",
    "merged_data = pd.merge(claims_data, customer_demographics, on='cust_id', how='left')\n",
    "\n",
    "missing_values = merged_data.isnull().sum()\n",
    "print(\"Missing values per column:\")\n",
    "print(missing_values)\n",
    "\n",
    "continuous_columns = merged_data.select_dtypes(include=['float64', 'int64']).columns\n",
    "merged_data[continuous_columns] = merged_data[continuous_columns].fillna(merged_data[continuous_columns].mean())\n",
    "\n",
    "categorical_columns = merged_data.select_dtypes(include=['object']).columns\n",
    "for col in categorical_columns:\n",
    "    merged_data[col] = merged_data[col].fillna(merged_data[col].mode()[0])\n",
    "\n",
    "missing_values_after_imputation = merged_data.isnull().sum()\n",
    "print(\"\\nMissing values after imputation:\")\n",
    "print(missing_values_after_imputation)\n",
    "\n",
    "print(\"\\nData after imputation (first 5 rows):\")\n",
    "print(merged_data.head())\n"
   ]
  },
  {
   "cell_type": "code",
   "execution_count": null,
   "id": "963816c2-0735-4bc4-ba12-c7103825e5cb",
   "metadata": {},
   "outputs": [],
   "source": []
  },
  {
   "cell_type": "code",
   "execution_count": null,
   "id": "02ac1756-6f97-495d-b6fd-74cc673f9de8",
   "metadata": {},
   "outputs": [],
   "source": [
    "7. Calculate the age of customers in years. Based on the age, categorize the customers according to the below criteria.\n",
    "Children < 18\n",
    "Youth 18-30\n",
    "Adult 30-60\n",
    "Senior > 60"
   ]
  },
  {
   "cell_type": "code",
   "execution_count": null,
   "id": "07fe483d-7cb7-4e8f-96ce-4935185357d4",
   "metadata": {},
   "outputs": [],
   "source": [
    "import pandas as pd\n",
    "\n",
    "claims_data = pd.read_csv('claims_data.csv')\n",
    "customer_demographics = pd.read_csv('customer_demographics.csv')\n",
    "\n",
    "claims_data = claims_data.rename(columns={'customer_id': 'cust_id'})\n",
    "merged_data = pd.merge(claims_data, customer_demographics, on='cust_id', how='left')\n",
    "\n",
    "merged_data['dateofbirth'] = pd.to_datetime(merged_data['dateofbirth'])\n",
    "merged_data['age'] = (pd.to_datetime('today') - merged_data['dateofbirth']).dt.days // 365\n",
    "\n",
    "def categorize_age(age):\n",
    "    if age < 18:\n",
    "        return 'Children'\n",
    "    elif 18 <= age <= 30:\n",
    "        return 'Youth'\n",
    "    elif 30 < age <= 60:\n",
    "        return 'Adult'\n",
    "    else:\n",
    "        return 'Senior'\n",
    "\n",
    "merged_data['age_category'] = merged_data['age'].apply(categorize_age)\n",
    "\n",
    "print(merged_data[['cust_id', 'age', 'age_category']].head())\n"
   ]
  },
  {
   "cell_type": "code",
   "execution_count": null,
   "id": "79321ecb-f959-4098-80bf-ce438db1b133",
   "metadata": {},
   "outputs": [],
   "source": []
  },
  {
   "cell_type": "code",
   "execution_count": null,
   "id": "d4bfdc22-57f1-4455-abc6-2150e974f3f3",
   "metadata": {},
   "outputs": [],
   "source": [
    "8. What is the average amount claimed by the customers from various segments?"
   ]
  },
  {
   "cell_type": "code",
   "execution_count": null,
   "id": "2f027081-b9e2-401f-b535-0aeb1b11cfec",
   "metadata": {},
   "outputs": [],
   "source": [
    "import pandas as pd\n",
    "\n",
    "claims_data = pd.read_csv('claims_data.csv')\n",
    "customer_demographics = pd.read_csv('customer_demographics.csv')\n",
    "\n",
    "claims_data = claims_data.rename(columns={'customer_id': 'cust_id'})\n",
    "merged_data = pd.merge(claims_data, customer_demographics, on='cust_id', how='left')\n",
    "\n",
    "average_claim_by_segment = merged_data.groupby('segment')['claim_amount'].mean().reset_index()\n",
    "\n",
    "print(average_claim_by_segment)\n"
   ]
  },
  {
   "cell_type": "code",
   "execution_count": null,
   "id": "1afe3bec-0964-4633-b2d9-8bb3e33a734c",
   "metadata": {},
   "outputs": [],
   "source": []
  },
  {
   "cell_type": "code",
   "execution_count": null,
   "id": "0a1231e9-c0b1-4aa0-afeb-500ce46b5294",
   "metadata": {},
   "outputs": [],
   "source": [
    "9. What is the total claim amount based on incident cause for all the claims that have been done at least 20 days prior to 1st of October, 2018."
   ]
  },
  {
   "cell_type": "code",
   "execution_count": null,
   "id": "abe80c48-cb14-4923-bc6c-4f091e481f4f",
   "metadata": {},
   "outputs": [],
   "source": [
    "import pandas as pd\n",
    "\n",
    "claims_data = pd.read_csv('claims_data.csv')\n",
    "\n",
    "claims_data['claim_date'] = pd.to_datetime(claims_data['claim_date'])\n",
    "\n",
    "cutoff_date = pd.to_datetime('2018-10-01') - pd.Timedelta(days=20)\n",
    "\n",
    "filtered_claims = claims_data[claims_data['claim_date'] <= cutoff_date]\n",
    "\n",
    "total_claim_by_cause = filtered_claims.groupby('incident_cause')['claim_amount'].sum().reset_index()\n",
    "\n",
    "print(total_claim_by_cause)\n"
   ]
  },
  {
   "cell_type": "code",
   "execution_count": null,
   "id": "fc798bbe-7cb9-4514-8c31-051ff6de7812",
   "metadata": {},
   "outputs": [],
   "source": []
  },
  {
   "cell_type": "code",
   "execution_count": null,
   "id": "13a80376-7e5a-47ec-8363-bd99b62085e0",
   "metadata": {},
   "outputs": [],
   "source": [
    "10. How many adults from TX, DE and AK claimed insurance for driver related issues and causes?"
   ]
  },
  {
   "cell_type": "code",
   "execution_count": null,
   "id": "4274d2f0-5063-45bf-9937-0d9050b9ade7",
   "metadata": {},
   "outputs": [],
   "source": [
    "import pandas as pd\n",
    "\n",
    "claims_data = pd.read_csv('claims_data.csv')\n",
    "customer_demographics = pd.read_csv('customer_demographics.csv')\n",
    "\n",
    "customer_demographics['dateofbirth'] = pd.to_datetime(customer_demographics['dateofbirth'])\n",
    "customer_demographics['age'] = (pd.to_datetime('today') - customer_demographics['dateofbirth']).dt.days // 365\n",
    "\n",
    "adults = customer_demographics[(customer_demographics['age'] >= 30) & (customer_demographics['age'] <= 60)]\n",
    "\n",
    "merged_data = pd.merge(claims_data, adults[['cust_id', 'state']], left_on='customer_id', right_on='cust_id', how='inner')\n",
    "\n",
    "filtered_data = merged_data[(merged_data['state'].isin(['TX', 'DE', 'AK'])) &\n",
    "                             (merged_data['incident_cause'].str.contains('driver', case=False, na=False))]\n",
    "\n",
    "unique_customers = filtered_data['customer_id'].nunique()\n",
    "\n",
    "print(f\"Number of adults from TX, DE, and AK who claimed insurance for driver-related issues: {unique_customers}\")\n"
   ]
  },
  {
   "cell_type": "code",
   "execution_count": null,
   "id": "ee39e09d-5a5e-47b7-a0ac-6b3fb3262466",
   "metadata": {},
   "outputs": [],
   "source": []
  },
  {
   "cell_type": "code",
   "execution_count": null,
   "id": "188e14bc-5a49-4523-bb60-94245f11584d",
   "metadata": {},
   "outputs": [],
   "source": [
    "11. Draw a pie chart between the aggregated value of claim amount based on gender and segment. Represent the claim amount as a percentage on\n",
    "the pie chart."
   ]
  },
  {
   "cell_type": "code",
   "execution_count": null,
   "id": "ba4d11f9-e4f4-4b98-b0aa-982772befd36",
   "metadata": {},
   "outputs": [],
   "source": [
    "import pandas as pd\n",
    "import matplotlib.pyplot as plt\n",
    "\n",
    "claims_data = pd.read_csv('claims_data.csv')\n",
    "customer_demographics = pd.read_csv('customer_demographics.csv')\n",
    "\n",
    "merged_data = pd.merge(claims_data, customer_demographics[['cust_id', 'gender', 'segment']], \n",
    "                       left_on='customer_id', right_on='cust_id', how='inner')\n",
    "\n",
    "grouped_data = merged_data.groupby(['gender', 'segment'])['claim_amount'].sum().reset_index()\n",
    "\n",
    "grouped_data['label'] = grouped_data['gender'] + \" - \" + grouped_data['segment']\n",
    "\n",
    "plt.figure(figsize=(8, 8))\n",
    "plt.pie(grouped_data['claim_amount'], labels=grouped_data['label'], autopct='%1.1f%%', startangle=90)\n",
    "plt.title('Claim Amount by Gender and Segment')\n",
    "plt.axis('equal')\n",
    "plt.show()\n"
   ]
  },
  {
   "cell_type": "code",
   "execution_count": null,
   "id": "541d3aca-d037-47d5-8430-c4a6b5068be3",
   "metadata": {},
   "outputs": [],
   "source": []
  },
  {
   "cell_type": "code",
   "execution_count": null,
   "id": "0e355604-8361-479e-8ddc-180f5b315fe3",
   "metadata": {},
   "outputs": [],
   "source": [
    "12. Among males and females, which gender had claimed the most for any type of driver related issues? E.g. This metric can be compared using a \n",
    "bar chart."
   ]
  },
  {
   "cell_type": "code",
   "execution_count": null,
   "id": "9614a9ac-d750-4605-8da5-86f62d6d6a71",
   "metadata": {},
   "outputs": [],
   "source": [
    "import pandas as pd\n",
    "import matplotlib.pyplot as plt\n",
    "\n",
    "claims_data = pd.read_csv('claims_data.csv')\n",
    "customer_demographics = pd.read_csv('customer_demographics.csv')\n",
    "\n",
    "merged_data = pd.merge(claims_data, customer_demographics[['cust_id', 'gender']], \n",
    "                       left_on='customer_id', right_on='cust_id', how='inner')\n",
    "\n",
    "driver_claims = merged_data[merged_data['incident_cause'].str.contains('driver', case=False, na=False)]\n",
    "\n",
    "gender_claims = driver_claims.groupby('gender')['claim_amount'].sum().reset_index()\n",
    "\n",
    "plt.figure(figsize=(8, 6))\n",
    "plt.bar(gender_claims['gender'], gender_claims['claim_amount'], color=['blue', 'pink'])\n",
    "plt.title('Total Claim Amount for Driver-Related Issues by Gender')\n",
    "plt.xlabel('Gender')\n",
    "plt.ylabel('Total Claim Amount')\n",
    "plt.show()\n"
   ]
  },
  {
   "cell_type": "code",
   "execution_count": null,
   "id": "53124fba-f94a-49df-8d9a-cf860716bdcf",
   "metadata": {},
   "outputs": [],
   "source": []
  },
  {
   "cell_type": "code",
   "execution_count": null,
   "id": "6c8570d5-a8c9-47a4-9611-9c2afa74816c",
   "metadata": {},
   "outputs": [],
   "source": [
    "13. Which age group had the maximum fraudulent policy claims? Visualize it on a bar chart."
   ]
  },
  {
   "cell_type": "code",
   "execution_count": null,
   "id": "97294275-5280-4df7-b721-824363919ce7",
   "metadata": {},
   "outputs": [],
   "source": [
    "import pandas as pd\n",
    "import matplotlib.pyplot as plt\n",
    "\n",
    "claims_data = pd.read_csv('claims_data.csv')\n",
    "customer_demographics = pd.read_csv('customer_demographics.csv')\n",
    "\n",
    "merged_data = pd.merge(claims_data, customer_demographics[['cust_id', 'gender', 'dateofbirth']], \n",
    "                       left_on='customer_id', right_on='cust_id', how='inner')\n",
    "\n",
    "merged_data['dateofbirth'] = pd.to_datetime(merged_data['dateofbirth'])\n",
    "merged_data['age'] = (pd.to_datetime('today') - merged_data['dateofbirth']).dt.days // 365\n",
    "\n",
    "def age_group(age):\n",
    "    if age < 18:\n",
    "        return 'Children'\n",
    "    elif 18 <= age <= 30:\n",
    "        return 'Youth'\n",
    "    elif 30 < age <= 60:\n",
    "        return 'Adult'\n",
    "    else:\n",
    "        return 'Senior'\n",
    "\n",
    "merged_data['age_group'] = merged_data['age'].apply(age_group)\n",
    "\n",
    "fraudulent_claims = merged_data[merged_data['fraudulent'] == 1]\n",
    "age_group_fraud = fraudulent_claims.groupby('age_group').size().reset_index(name='fraudulent_claim_count')\n",
    "\n",
    "plt.figure(figsize=(8, 6))\n",
    "plt.bar(age_group_fraud['age_group'], age_group_fraud['fraudulent_claim_count'], color='orange')\n",
    "plt.title('Number of Fraudulent Claims by Age Group')\n",
    "plt.xlabel('Age Group')\n",
    "plt.ylabel('Number of Fraudulent Claims')\n",
    "plt.xticks(rotation=45)\n",
    "plt.show()\n"
   ]
  },
  {
   "cell_type": "code",
   "execution_count": null,
   "id": "890171b7-2b6d-466c-a4a1-2825c0372465",
   "metadata": {},
   "outputs": [],
   "source": []
  },
  {
   "cell_type": "code",
   "execution_count": null,
   "id": "1eb59a89-4dc4-47f8-b69e-6631052bcc9e",
   "metadata": {},
   "outputs": [],
   "source": [
    "14. Visualize the monthly trend of the total amount that has been claimed by the customers. Ensure that on the “month” axis, the month is in a \n",
    "chronological order not alphabetical order."
   ]
  },
  {
   "cell_type": "code",
   "execution_count": null,
   "id": "93f5fcd8-9919-4c62-ac90-16626a2042a4",
   "metadata": {},
   "outputs": [],
   "source": [
    "import pandas as pd\n",
    "import matplotlib.pyplot as plt\n",
    "\n",
    "claims_data = pd.read_csv('claims_data.csv')\n",
    "\n",
    "claims_data['claim_date'] = pd.to_datetime(claims_data['claim_date'])\n",
    "\n",
    "claims_data['month_year'] = claims_data['claim_date'].dt.to_period('M')\n",
    "\n",
    "monthly_claims = claims_data.groupby('month_year')['claim_amount'].sum().reset_index()\n",
    "\n",
    "plt.figure(figsize=(10, 6))\n",
    "plt.plot(monthly_claims['month_year'].astype(str), monthly_claims['claim_amount'], marker='o', color='b')\n",
    "\n",
    "plt.title('Monthly Trend of Total Claim Amount')\n",
    "plt.xlabel('Month-Year')\n",
    "plt.ylabel('Total Claim Amount')\n",
    "plt.xticks(rotation=45, ha='right')\n",
    "plt.grid(True)\n",
    "\n",
    "plt.tight_layout()\n",
    "plt.show()\n"
   ]
  },
  {
   "cell_type": "code",
   "execution_count": null,
   "id": "98cbf7f3-754e-4c26-8890-afc81d15b813",
   "metadata": {},
   "outputs": [],
   "source": []
  },
  {
   "cell_type": "code",
   "execution_count": null,
   "id": "86b1caba-b619-4689-b869-66fe230cd96a",
   "metadata": {},
   "outputs": [],
   "source": [
    "15. What is the average claim amount for gender and age categories and suitably represent the above using a facetted bar chart, one facet that \n",
    "represents fraudulent claims and the other for non-fraudulent claims.\n",
    "\n",
    "Based on the conclusions from exploratory analysis as well as suitable statistical tests, answer the below questions. Please include a detailed \n",
    "write-up on the parameters taken into consideration, the Hypothesis testing steps, conclusion from the p-values and the business implications of \n",
    "the statements."
   ]
  },
  {
   "cell_type": "code",
   "execution_count": null,
   "id": "126bac6c-c75f-474a-a02e-f6f4f36828b8",
   "metadata": {},
   "outputs": [],
   "source": [
    "import pandas as pd\n",
    "import matplotlib.pyplot as plt\n",
    "import seaborn as sns\n",
    "\n",
    "claims_data = pd.read_csv('claims_data.csv')\n",
    "customer_data = pd.read_csv('customer_demographics.csv')\n",
    "\n",
    "claims_data['claim_date'] = pd.to_datetime(claims_data['claim_date'])\n",
    "\n",
    "merged_data = pd.merge(claims_data, customer_data, left_on='customer_id', right_on='cust_id', how='inner')\n",
    "\n",
    "def categorize_age(age):\n",
    "    if age < 18:\n",
    "        return 'Children'\n",
    "    elif 18 <= age <= 30:\n",
    "        return 'Youth'\n",
    "    elif 30 < age <= 60:\n",
    "        return 'Adult'\n",
    "    else:\n",
    "        return 'Senior'\n",
    "\n",
    "merged_data['age'] = pd.to_datetime('today').year - pd.to_datetime(merged_data['dateofbirth']).dt.year\n",
    "\n",
    "merged_data['age_group'] = merged_data['age'].apply(categorize_age)\n",
    "\n",
    "avg_claims = merged_data.groupby(['gender', 'age_group', 'fraudulent'])['claim_amount'].mean().reset_index()\n",
    "\n",
    "plt.figure(figsize=(12, 6))\n",
    "sns.set(style=\"whitegrid\")\n",
    "g = sns.catplot(x='age_group', y='claim_amount', hue='gender', col='fraudulent', \n",
    "                data=avg_claims, kind='bar', height=5, aspect=1.5)\n",
    "\n",
    "g.set_axis_labels('Age Group', 'Average Claim Amount')\n",
    "g.set_titles('Fraudulent Claims: {col_name}')\n",
    "g.fig.suptitle('Average Claim Amount by Gender and Age Group for Fraudulent vs Non-Fraudulent Claims', fontsize=16)\n",
    "g.fig.tight_layout()\n",
    "g.fig.subplots_adjust(top=0.85)\n",
    "\n",
    "plt.show()\n",
    "\n",
    "from scipy.stats import ttest_ind\n",
    "\n",
    "fraudulent_claims = merged_data[merged_data['fraudulent'] == 1]['claim_amount']\n",
    "non_fraudulent_claims = merged_data[merged_data['fraudulent'] == 0]['claim_amount']\n",
    "\n",
    "t_stat, p_value = ttest_ind(fraudulent_claims, non_fraudulent_claims, equal_var=False)\n",
    "\n",
    "print(f\"T-statistic: {t_stat}\")\n",
    "print(f\"P-value: {p_value}\")\n",
    "\n",
    "if p_value < 0.05:\n",
    "    print(\"Reject the null hypothesis. There is a significant difference in the claim amounts between fraudulent and non-fraudulent claims.\")\n",
    "else:\n",
    "    print(\"Fail to reject the null hypothesis. There is no significant difference in the claim amounts between fraudulent and non-fraudulent claims.\")\n"
   ]
  },
  {
   "cell_type": "code",
   "execution_count": null,
   "id": "a5cd410d-3132-4af0-914e-e7b3ed3f9e36",
   "metadata": {},
   "outputs": [],
   "source": []
  },
  {
   "cell_type": "code",
   "execution_count": null,
   "id": "6ee53794-d805-4d6d-9a1a-e295f0a33315",
   "metadata": {},
   "outputs": [],
   "source": [
    "16. Is there any similarity in the amount claimed by males and females?"
   ]
  },
  {
   "cell_type": "code",
   "execution_count": null,
   "id": "eab3e86e-a10c-4f28-ae9b-e7b27449449e",
   "metadata": {},
   "outputs": [],
   "source": [
    "import pandas as pd\n",
    "import matplotlib.pyplot as plt\n",
    "import seaborn as sns\n",
    "from scipy.stats import ttest_ind\n",
    "\n",
    "claims_data = pd.read_csv('claims_data.csv')\n",
    "customer_data = pd.read_csv('customer_demographics.csv')\n",
    "\n",
    "merged_data = pd.merge(claims_data, customer_data, left_on='customer_id', right_on='cust_id', how='inner')\n",
    "\n",
    "merged_data['claim_amount'] = pd.to_numeric(merged_data['claim_amount'], errors='coerce')\n",
    "\n",
    "plt.figure(figsize=(10, 6))\n",
    "sns.boxplot(x='gender', y='claim_amount', data=merged_data)\n",
    "plt.title('Claim Amount Distribution by Gender')\n",
    "plt.xlabel('Gender')\n",
    "plt.ylabel('Claim Amount')\n",
    "plt.show()\n",
    "\n",
    "male_claims = merged_data[merged_data['gender'] == 'Male']['claim_amount']\n",
    "female_claims = merged_data[merged_data['gender'] == 'Female']['claim_amount']\n",
    "\n",
    "t_stat, p_value = ttest_ind(male_claims.dropna(), female_claims.dropna(), equal_var=False)\n",
    "\n",
    "print(f\"T-statistic: {t_stat}\")\n",
    "print(f\"P-value: {p_value}\")\n",
    "\n",
    "if p_value < 0.05:\n",
    "    print(\"Reject the null hypothesis. There is a significant difference in the average claim amounts between males and females.\")\n",
    "else:\n",
    "    print(\"Fail to reject the null hypothesis. There is no significant difference in the average claim amounts between males and females.\")\n"
   ]
  },
  {
   "cell_type": "code",
   "execution_count": null,
   "id": "3536945c-de06-4cab-8f4a-b9f2334f3276",
   "metadata": {},
   "outputs": [],
   "source": []
  },
  {
   "cell_type": "code",
   "execution_count": null,
   "id": "e1a08d48-3fc9-411c-92ac-75535344a154",
   "metadata": {},
   "outputs": [],
   "source": [
    "17. Is there any relationship between age category and segment?"
   ]
  },
  {
   "cell_type": "code",
   "execution_count": null,
   "id": "d8ac484c-59b3-4f77-ab22-58f5472ecba2",
   "metadata": {},
   "outputs": [],
   "source": [
    "import pandas as pd\n",
    "import matplotlib.pyplot as plt\n",
    "import seaborn as sns\n",
    "from scipy.stats import chi2_contingency\n",
    "\n",
    "claims_data = pd.read_csv('claims_data.csv')\n",
    "customer_data = pd.read_csv('customer_demographics.csv')\n",
    "\n",
    "merged_data = pd.merge(claims_data, customer_data, left_on='customer_id', right_on='cust_id', how='inner')\n",
    "\n",
    "merged_data['dateofbirth'] = pd.to_datetime(merged_data['dateofbirth'], errors='coerce')\n",
    "\n",
    "current_date = pd.to_datetime('today')\n",
    "merged_data['age'] = (current_date - merged_data['dateofbirth']).dt.days // 365\n",
    "\n",
    "def categorize_age(age):\n",
    "    if age < 18:\n",
    "        return 'Children'\n",
    "    elif 18 <= age <= 30:\n",
    "        return 'Youth'\n",
    "    elif 30 < age <= 60:\n",
    "        return 'Adult'\n",
    "    else:\n",
    "        return 'Senior'\n",
    "\n",
    "merged_data['age_category'] = merged_data['age'].apply(categorize_age)\n",
    "\n",
    "age_segment_crosstab = pd.crosstab(merged_data['age_category'], merged_data['segment'], margins=True, margins_name=\"Total\")\n",
    "\n",
    "plt.figure(figsize=(10, 6))\n",
    "age_segment_crosstab.drop(columns='All').plot(kind='bar', stacked=True, colormap='Set2')\n",
    "plt.title('Relationship between Age Category and Segment')\n",
    "plt.xlabel('Age Category')\n",
    "plt.ylabel('Count')\n",
    "plt.xticks(rotation=0)\n",
    "plt.legend(title=\"Segment\", bbox_to_anchor=(1.05, 1), loc='upper left')\n",
    "plt.tight_layout()\n",
    "plt.show()\n",
    "\n",
    "chi2_stat, p_val, dof, expected = chi2_contingency(age_segment_crosstab.drop(columns='All'))\n",
    "\n",
    "print(f\"Chi-Square Statistic: {chi2_stat}\")\n",
    "print(f\"P-Value: {p_val}\")\n",
    "\n",
    "if p_val < 0.05:\n",
    "    print(\"Reject the null hypothesis. There is a significant relationship between age category and segment.\")\n",
    "else:\n",
    "    print(\"Fail to reject the null hypothesis. There is no significant relationship between age category and segment.\")\n"
   ]
  },
  {
   "cell_type": "code",
   "execution_count": null,
   "id": "16faf424-f407-4bf1-a0eb-1f25e2c4c9af",
   "metadata": {},
   "outputs": [],
   "source": []
  },
  {
   "cell_type": "code",
   "execution_count": null,
   "id": "41dddad3-a8cc-4488-bec3-1f8bacc41a11",
   "metadata": {},
   "outputs": [],
   "source": [
    "18. The current year has shown a significant rise in claim amounts as compared to 2016-17 fiscal average which was $10,000."
   ]
  },
  {
   "cell_type": "code",
   "execution_count": null,
   "id": "db5eda00-8216-431b-9bc9-94af310b8cb0",
   "metadata": {},
   "outputs": [],
   "source": [
    "import pandas as pd\n",
    "import matplotlib.pyplot as plt\n",
    "\n",
    "claims_data = pd.read_csv('claims_data.csv')\n",
    "\n",
    "claims_data['claim_date'] = pd.to_datetime(claims_data['claim_date'])\n",
    "\n",
    "current_year = pd.to_datetime('today').year\n",
    "claims_data['year'] = claims_data['claim_date'].dt.year\n",
    "\n",
    "current_year_claims = claims_data[claims_data['year'] == current_year]\n",
    "\n",
    "average_claim_current_year = current_year_claims['claim_amount'].mean()\n",
    "\n",
    "fiscal_year_2016_17_average = 10000\n",
    "\n",
    "print(f\"Average claim amount for the current year ({current_year}): ${average_claim_current_year:.2f}\")\n",
    "print(f\"Fiscal year 2016-17 average claim amount: ${fiscal_year_2016_17_average}\")\n",
    "\n",
    "if average_claim_current_year > fiscal_year_2016_17_average:\n",
    "    print(\"There is a significant rise in claim amounts compared to the fiscal year 2016-17.\")\n",
    "else:\n",
    "    print(\"Claim amounts have not risen significantly compared to the fiscal year 2016-17.\")\n",
    "\n",
    "labels = ['Current Year Average', '2016-17 Fiscal Average']\n",
    "values = [average_claim_current_year, fiscal_year_2016_17_average]\n",
    "\n",
    "plt.figure(figsize=(8, 5))\n",
    "plt.bar(labels, values, color=['skyblue', 'orange'])\n",
    "plt.title(f\"Comparison of Average Claim Amounts: {current_year} vs 2016-17 Fiscal Year\")\n",
    "plt.ylabel(\"Claim Amount ($)\")\n",
    "plt.show()\n"
   ]
  },
  {
   "cell_type": "code",
   "execution_count": null,
   "id": "22fd8080-9e4b-48a4-a9e7-65a1d7acabd3",
   "metadata": {},
   "outputs": [],
   "source": []
  },
  {
   "cell_type": "code",
   "execution_count": null,
   "id": "5f4357b9-a533-40a2-aae7-b39d4d2bbba3",
   "metadata": {},
   "outputs": [],
   "source": [
    "19. Is there any difference between age groups and insurance claims?"
   ]
  },
  {
   "cell_type": "code",
   "execution_count": null,
   "id": "51f0c253-3e6a-4c7d-9bcc-d2dd0f40a5b6",
   "metadata": {},
   "outputs": [],
   "source": [
    "import pandas as pd\n",
    "import matplotlib.pyplot as plt\n",
    "import seaborn as sns\n",
    "from scipy import stats\n",
    "from datetime import datetime\n",
    "\n",
    "claims_data = pd.read_csv('claims_data.csv')\n",
    "customer_data = pd.read_csv('customer_demographics.csv')\n",
    "\n",
    "customer_data['dateofbirth'] = pd.to_datetime(customer_data['dateofbirth'])\n",
    "\n",
    "current_year = datetime.now().year\n",
    "customer_data['age'] = current_year - customer_data['dateofbirth'].dt.year\n",
    "\n",
    "def categorize_age(age):\n",
    "    if age < 18:\n",
    "        return 'Children'\n",
    "    elif 18 <= age <= 30:\n",
    "        return 'Youth'\n",
    "    elif 30 < age <= 60:\n",
    "        return 'Adult'\n",
    "    else:\n",
    "        return 'Senior'\n",
    "\n",
    "customer_data['age_group'] = customer_data['age'].apply(categorize_age)\n",
    "\n",
    "claims_data = claims_data.merge(customer_data[['cust_id', 'age_group']], left_on='customer_id', right_on='cust_id')\n",
    "\n",
    "age_group_claims = claims_data.groupby('age_group')['claim_amount'].mean().reset_index()\n",
    "\n",
    "age_groups = claims_data['age_group'].unique()\n",
    "claims_by_age_group = [claims_data[claims_data['age_group'] == group]['claim_amount'] for group in age_groups]\n",
    "anova_result = stats.f_oneway(*claims_by_age_group)\n",
    "\n",
    "print(f'ANOVA Test Result: p-value = {anova_result.pvalue}')\n",
    "if anova_result.pvalue < 0.05:\n",
    "    print(\"There is a significant difference between age groups and insurance claims.\")\n",
    "else:\n",
    "    print(\"There is no significant difference between age groups and insurance claims.\")\n",
    "\n",
    "plt.figure(figsize=(10, 6))\n",
    "sns.boxplot(x='age_group', y='claim_amount', data=claims_data)\n",
    "plt.title('Claim Amounts by Age Group')\n",
    "plt.xlabel('Age Group')\n",
    "plt.ylabel('Claim Amount ($)')\n",
    "plt.show()\n"
   ]
  },
  {
   "cell_type": "code",
   "execution_count": null,
   "id": "5280c90d-bd0b-4779-a216-396ff4641d0d",
   "metadata": {},
   "outputs": [],
   "source": []
  },
  {
   "cell_type": "code",
   "execution_count": null,
   "id": "0b3095f6-a915-417c-817b-80ab0e6d5c90",
   "metadata": {},
   "outputs": [],
   "source": [
    "20. Is there any relationship between total number of policy claims and the claimed amount?"
   ]
  },
  {
   "cell_type": "code",
   "execution_count": null,
   "id": "4d56dcd1-bb50-4659-94b4-161897ce91af",
   "metadata": {},
   "outputs": [],
   "source": [
    "import pandas as pd\n",
    "import matplotlib.pyplot as plt\n",
    "import seaborn as sns\n",
    "\n",
    "claims_data = pd.read_csv('claims_data.csv')\n",
    "customer_data = pd.read_csv('customer_demographics.csv')\n",
    "\n",
    "merged_data = claims_data.merge(customer_data[['cust_id', 'gender', 'segment']], left_on='customer_id', right_on='cust_id')\n",
    "\n",
    "plt.figure(figsize=(10, 6))\n",
    "sns.scatterplot(x='total_policy_claims', y='claim_amount', data=merged_data)\n",
    "plt.title('Relationship between Total Policy Claims and Claimed Amount')\n",
    "plt.xlabel('Total Policy Claims')\n",
    "plt.ylabel('Claim Amount ($)')\n",
    "plt.show()\n",
    "\n",
    "correlation = merged_data[['total_policy_claims', 'claim_amount']].corr().iloc[0, 1]\n",
    "print(f\"Pearson correlation coefficient: {correlation}\")\n",
    "\n",
    "if correlation > 0.7:\n",
    "    print(\"There is a strong positive correlation between the total number of policy claims and the claimed amount.\")\n",
    "elif correlation > 0.3:\n",
    "    print(\"There is a moderate positive correlation between the total number of policy claims and the claimed amount.\")\n",
    "else:\n",
    "    print(\"There is little to no correlation between the total number of policy claims and the claimed amount.\")\n"
   ]
  }
 ],
 "metadata": {
  "kernelspec": {
   "display_name": "Python 3 (ipykernel)",
   "language": "python",
   "name": "python3"
  },
  "language_info": {
   "codemirror_mode": {
    "name": "ipython",
    "version": 3
   },
   "file_extension": ".py",
   "mimetype": "text/x-python",
   "name": "python",
   "nbconvert_exporter": "python",
   "pygments_lexer": "ipython3",
   "version": "3.12.7"
  }
 },
 "nbformat": 4,
 "nbformat_minor": 5
}
